{
 "cells": [
  {
   "cell_type": "markdown",
   "metadata": {},
   "source": [
    "# Write a python module script that contains fib2() method to calculate thefibonacci series till 1000 and save it as fibo.py.\n",
    "Note : The module created as fibo.py has to be placed in lib\n",
    "folder\n",
    "For linux/ubuntu path = /home/anaconda/lib/python3\n",
    "For Windows path = C:\\Users\\Ajit\\Anaconda3\\Lib"
   ]
  },
  {
   "cell_type": "code",
   "execution_count": 1,
   "metadata": {},
   "outputs": [
    {
     "name": "stdout",
     "output_type": "stream",
     "text": [
      "How many terms? 28\n",
      "Fibonacci sequence upto 28 :\n",
      "0 , 1 , 1 , 2 , 3 , 5 , 8 , 13 , 21 , 34 , 55 , 89 , 144 , 233 , 377 , 610 , 987 , 1597 , 2584 , 4181 , 6765 , 10946 , 17711 , 28657 , 46368 , 75025 , 121393 , 196418 , "
     ]
    }
   ],
   "source": [
    "import fibo"
   ]
  },
  {
   "cell_type": "markdown",
   "metadata": {},
   "source": [
    "# Write a python module script that contains ispalindrome() method to calculate the input string as palindrome string or not and save it as palindrome.py"
   ]
  },
  {
   "cell_type": "code",
   "execution_count": 2,
   "metadata": {},
   "outputs": [
    {
     "name": "stdout",
     "output_type": "stream",
     "text": [
      "Please enter a word to check whether it is palindrome or not \tmalayalam\n",
      "Yes\n"
     ]
    }
   ],
   "source": [
    "import palindrome"
   ]
  },
  {
   "cell_type": "markdown",
   "metadata": {},
   "source": [
    "# Write a Python program to give exception “Array Out of Bound” if the user wants to access the elements beyond the list size (use try and except)"
   ]
  },
  {
   "cell_type": "code",
   "execution_count": 3,
   "metadata": {},
   "outputs": [
    {
     "name": "stdout",
     "output_type": "stream",
     "text": [
      "The length of the list is 4\n",
      "Enter a number greater than the lenght of the list\t5\n",
      "As you are accessing the elements beyond the list size i.e; Array Out of Bound\n"
     ]
    }
   ],
   "source": [
    "list=[1,2,3,4]\n",
    "print(\"The length of the list is\",len(list))\n",
    "x=input(\"Enter a number greater than the lenght of the list\\t\")\n",
    "try:\n",
    "                 \n",
    "    print(list[x])\n",
    "except :\n",
    "        \n",
    "        print(\"As you are accessing the elements beyond the list size i.e; Array Out of Bound\")"
   ]
  },
  {
   "cell_type": "code",
   "execution_count": null,
   "metadata": {},
   "outputs": [],
   "source": []
  }
 ],
 "metadata": {
  "kernelspec": {
   "display_name": "Python 3",
   "language": "python",
   "name": "python3"
  },
  "language_info": {
   "codemirror_mode": {
    "name": "ipython",
    "version": 3
   },
   "file_extension": ".py",
   "mimetype": "text/x-python",
   "name": "python",
   "nbconvert_exporter": "python",
   "pygments_lexer": "ipython3",
   "version": "3.7.0"
  }
 },
 "nbformat": 4,
 "nbformat_minor": 2
}
